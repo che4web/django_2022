{
 "cells": [
  {
   "cell_type": "code",
   "execution_count": 1,
   "id": "hearing-console",
   "metadata": {},
   "outputs": [],
   "source": [
    "import os\n",
    "import django\n",
    "os.environ.setdefault('DJANGO_SETTINGS_MODULE', 'rest.settings')\n",
    "os.environ[\"DJANGO_ALLOW_ASYNC_UNSAFE\"] = \"true\"\n",
    "django.setup()"
   ]
  },
  {
   "cell_type": "code",
   "execution_count": null,
   "id": "settled-depth",
   "metadata": {},
   "outputs": [],
   "source": []
  },
  {
   "cell_type": "code",
   "execution_count": 2,
   "id": "premier-astrology",
   "metadata": {},
   "outputs": [],
   "source": [
    "from biblioapp.models import Article,Journal,Author"
   ]
  },
  {
   "cell_type": "code",
   "execution_count": 3,
   "id": "affected-fraction",
   "metadata": {},
   "outputs": [
    {
     "data": {
      "text/plain": [
       "<QuerySet [<Article: B. I. Myznikova, B. L. Smorodin, M. I. Shliomis, Черепанов ИНTraveling-wave convection in colloids stratified by gravity>, <Article: B. L. Smorodin, Черепанов ИНконвекция в коллоидной суспензии в замкнутой горизонтальной ячейке>, <Article: Черепанов ИНтечение коллоида в горизонтальной ячейке при подогреве сбоку>, <Article: Arefyev, I.M., Kolchanov, N.V.Thermal convection in a layer of magnetic colloid based on a single-component fluid>, <Article: M. I. Shliomis123>, <Article: M. I. Shliomis123>, <Article: M. I. Shliomis123>, <Article: M. I. Shliomis123>, <Article: M. I. Shliomis123>, <Article: B. I. Myznikova, B. L. Smorodin, M. I. Shliomis, Черепанов ИН!! Traveling-wave convection in colloids stratified by gravity>, <Article: B. L. Smorodin, Черепанов ИНConvection of colloidal suspensions stratified by thermodiffusion and gravity>, <Article: B. L. Smorodin, Черепанов ИНConvection of colloidal suspensions stratified by thermodiffusion and gravity>, <Article: B. L. Smorodin, Черепанов ИНConvection of colloidal suspensions stratified by thermodiffusion and gravity>, <Article: B. L. Smorodin, Черепанов ИНConvection of colloidal suspensions stratified by thermodiffusion and gravity>, <Article: B. L. Smorodin, Черепанов ИНConvection of colloidal suspensions stratified by thermodiffusion and gravity>, <Article: B. L. Smorodin, Черепанов ИНConvection of colloidal suspensions stratified by thermodiffusion and gravity>, <Article: B. L. Smorodin, Черепанов ИНConvection of colloidal suspensions stratified by thermodiffusion and gravity>, <Article: M. I. Shliomisasdas>]>"
      ]
     },
     "execution_count": 3,
     "metadata": {},
     "output_type": "execute_result"
    }
   ],
   "source": [
    "Article.objects.all()"
   ]
  },
  {
   "cell_type": "code",
   "execution_count": 4,
   "id": "contrary-transparency",
   "metadata": {},
   "outputs": [],
   "source": [
    "import bibtexparser\n",
    "with open('biblio.bib') as bibtex_file:\n",
    "    bibtex_database = bibtexparser.load(bibtex_file)"
   ]
  },
  {
   "cell_type": "code",
   "execution_count": 5,
   "id": "impressed-bunny",
   "metadata": {},
   "outputs": [],
   "source": [
    "journdal, created = Journal.objects.get_or_create(name=\"PHYSICAL REVIEW E\")"
   ]
  },
  {
   "cell_type": "code",
   "execution_count": 6,
   "id": "incoming-dairy",
   "metadata": {},
   "outputs": [
    {
     "data": {
      "text/plain": [
       "<Journal: PHYSICAL REVIEW E>"
      ]
     },
     "execution_count": 6,
     "metadata": {},
     "output_type": "execute_result"
    }
   ],
   "source": [
    "journdal"
   ]
  },
  {
   "cell_type": "code",
   "execution_count": 7,
   "id": "designing-money",
   "metadata": {},
   "outputs": [],
   "source": [
    "s = \"Arantxa Alonso and Oriol Batiste and Alvaro Meseguer,and Isabel Mercader\"\n",
    "def parse_author(s):\n",
    "    author_list =[]\n",
    "    for a in  s.split(\"and\"):\n",
    "        author_name = a.replace(\",\",'').strip()\n",
    "        author, created = Author.objects.get_or_create(name=author_name)\n",
    "        author_list.append(author)\n",
    "    return  author_list"
   ]
  },
  {
   "cell_type": "code",
   "execution_count": 8,
   "id": "headed-tuition",
   "metadata": {},
   "outputs": [
    {
     "data": {
      "text/plain": [
       "{'timestamp': '2014.09.05',\n",
       " 'owner': 'che',\n",
       " 'volume': '75',\n",
       " 'pages': '026310-1-026310-15',\n",
       " 'year': '2007',\n",
       " 'journal': 'PHYSICAL REVIEW E',\n",
       " 'author': 'Arantxa Alonso and Oriol Batiste and Alvaro Meseguer,and Isabel Mercader',\n",
       " 'title': 'Complex dynamical states in binary mixture convection with weak negative Soret coupling',\n",
       " 'ENTRYTYPE': 'article',\n",
       " 'ID': 'Alonso'}"
      ]
     },
     "execution_count": 8,
     "metadata": {},
     "output_type": "execute_result"
    }
   ],
   "source": [
    "bibtex_database.get_entry_list()[0]"
   ]
  },
  {
   "cell_type": "code",
   "execution_count": 14,
   "id": "circular-burns",
   "metadata": {},
   "outputs": [],
   "source": [
    "for article in bibtex_database.get_entry_list():\n",
    "    journal_name = article.get(\"journal\")\n",
    "    if journal_name:\n",
    "        journal, created = Journal.objects.get_or_create(name=article[\"journal\"]) \n",
    "        author_list = parse_author(article[\"author\"])\n",
    "        article_db,created = Article.objects.get_or_create(\n",
    "            name=article['title'],\n",
    "            journal=journal,\n",
    "            year=article.get('year',''),\n",
    "            pages=article.get('pages',''),\n",
    "            volume=article.get('volume',''),\n",
    "        )\n",
    "        for x in author_list:\n",
    "            article_db.author.add(x)"
   ]
  },
  {
   "cell_type": "code",
   "execution_count": 15,
   "id": "cathedral-munich",
   "metadata": {},
   "outputs": [
    {
     "data": {
      "text/plain": [
       "148"
      ]
     },
     "execution_count": 15,
     "metadata": {},
     "output_type": "execute_result"
    }
   ],
   "source": [
    "Article.objects.all().count()"
   ]
  },
  {
   "cell_type": "code",
   "execution_count": null,
   "id": "rising-tsunami",
   "metadata": {},
   "outputs": [],
   "source": []
  }
 ],
 "metadata": {
  "kernelspec": {
   "display_name": "Django Shell-Plus",
   "language": "python",
   "name": "django_extensions"
  },
  "language_info": {
   "codemirror_mode": {
    "name": "ipython",
    "version": 3
   },
   "file_extension": ".py",
   "mimetype": "text/x-python",
   "name": "python",
   "nbconvert_exporter": "python",
   "pygments_lexer": "ipython3",
   "version": "3.9.2"
  }
 },
 "nbformat": 4,
 "nbformat_minor": 5
}
