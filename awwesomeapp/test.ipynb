{
 "cells": [
  {
   "cell_type": "code",
   "execution_count": 67,
   "id": "inclusive-permission",
   "metadata": {},
   "outputs": [],
   "source": [
    "class A:\n",
    "    __name  ={'a':1}\n",
    "#    def __str__(self,some):\n",
    "#        print('hellp')\n",
    "    def __str__(self):\n",
    "        return 'class A, name=%s' %self.__name"
   ]
  },
  {
   "cell_type": "code",
   "execution_count": 92,
   "id": "adopted-excuse",
   "metadata": {},
   "outputs": [],
   "source": [
    "def foo(*args,**kwargs):\n",
    "    for key,val in kwargs.items():\n",
    "        print(key,val)"
   ]
  },
  {
   "cell_type": "code",
   "execution_count": 93,
   "id": "strategic-recruitment",
   "metadata": {},
   "outputs": [],
   "source": [
    "some_var = {'a':'1','b':'B'}"
   ]
  },
  {
   "cell_type": "code",
   "execution_count": 94,
   "id": "wired-round",
   "metadata": {},
   "outputs": [
    {
     "name": "stdout",
     "output_type": "stream",
     "text": [
      "a A\n",
      "b 12\n",
      "soom foo\n"
     ]
    }
   ],
   "source": [
    "foo(123,123,12,a='A',b='12',soom='foo')"
   ]
  },
  {
   "cell_type": "code",
   "execution_count": 78,
   "id": "incorporate-possibility",
   "metadata": {},
   "outputs": [
    {
     "name": "stdout",
     "output_type": "stream",
     "text": [
      "1 B\n"
     ]
    }
   ],
   "source": [
    "foo(**some_var)"
   ]
  },
  {
   "cell_type": "code",
   "execution_count": 72,
   "id": "agreed-exposure",
   "metadata": {},
   "outputs": [
    {
     "name": "stdout",
     "output_type": "stream",
     "text": [
      "1 A\n"
     ]
    }
   ],
   "source": [
    "some_var = ['1','A']\n",
    "foo(some_var[0],some_var[1])"
   ]
  },
  {
   "cell_type": "code",
   "execution_count": 73,
   "id": "judicial-pregnancy",
   "metadata": {},
   "outputs": [
    {
     "name": "stdout",
     "output_type": "stream",
     "text": [
      "1 A\n"
     ]
    }
   ],
   "source": [
    "foo(*some_var)"
   ]
  },
  {
   "cell_type": "code",
   "execution_count": 43,
   "id": "ready-hebrew",
   "metadata": {},
   "outputs": [
    {
     "name": "stdout",
     "output_type": "stream",
     "text": [
      "hellp\n"
     ]
    }
   ],
   "source": [
    "a._A__foo(' 1')"
   ]
  },
  {
   "cell_type": "code",
   "execution_count": 24,
   "id": "material-modern",
   "metadata": {},
   "outputs": [],
   "source": [
    "class B(A):\n",
    "    def foo(self,some):\n",
    "        print(\"hello  from B\")\n",
    "        super().foo(some)"
   ]
  },
  {
   "cell_type": "code",
   "execution_count": 25,
   "id": "special-safety",
   "metadata": {},
   "outputs": [],
   "source": [
    "b = B()"
   ]
  },
  {
   "cell_type": "code",
   "execution_count": 14,
   "id": "transsexual-banana",
   "metadata": {},
   "outputs": [
    {
     "name": "stdout",
     "output_type": "stream",
     "text": [
      "hello  from B\n",
      "A2 \n"
     ]
    }
   ],
   "source": [
    "b.foo('2 ')"
   ]
  },
  {
   "cell_type": "code",
   "execution_count": 26,
   "id": "loved-buddy",
   "metadata": {},
   "outputs": [],
   "source": [
    "b.name='B'"
   ]
  },
  {
   "cell_type": "code",
   "execution_count": 27,
   "id": "brilliant-immune",
   "metadata": {},
   "outputs": [
    {
     "data": {
      "text/plain": [
       "{'a': 1}"
      ]
     },
     "execution_count": 27,
     "metadata": {},
     "output_type": "execute_result"
    }
   ],
   "source": [
    "a.name"
   ]
  },
  {
   "cell_type": "code",
   "execution_count": null,
   "id": "hollow-atlanta",
   "metadata": {},
   "outputs": [],
   "source": []
  }
 ],
 "metadata": {
  "kernelspec": {
   "display_name": "Python 3",
   "language": "python",
   "name": "python3"
  },
  "language_info": {
   "codemirror_mode": {
    "name": "ipython",
    "version": 3
   },
   "file_extension": ".py",
   "mimetype": "text/x-python",
   "name": "python",
   "nbconvert_exporter": "python",
   "pygments_lexer": "ipython3",
   "version": "3.9.2"
  }
 },
 "nbformat": 4,
 "nbformat_minor": 5
}
