{
 "cells": [
  {
   "cell_type": "code",
   "execution_count": 30,
   "id": "lasting-genetics",
   "metadata": {},
   "outputs": [],
   "source": [
    "class Animals:\n",
    "    name =\"\"\n",
    "    mover=None\n",
    "    def __init__(self,name):\n",
    "        self.name=name\n"
   ]
  },
  {
   "cell_type": "code",
   "execution_count": null,
   "id": "capable-difficulty",
   "metadata": {},
   "outputs": [],
   "source": [
    "class RunMover:\n",
    "    def move(slef):\n",
    "        pass"
   ]
  },
  {
   "cell_type": "code",
   "execution_count": null,
   "id": "academic-fraction",
   "metadata": {},
   "outputs": [],
   "source": [
    "class SwinMover:\n",
    "    def move(slef):\n",
    "        pass\n",
    "    "
   ]
  },
  {
   "cell_type": "code",
   "execution_count": null,
   "id": "tropical-currency",
   "metadata": {},
   "outputs": [],
   "source": [
    "class FlyMover:\n",
    "    def move(slef):\n",
    "        pass"
   ]
  },
  {
   "cell_type": "code",
   "execution_count": 26,
   "id": "hungry-chick",
   "metadata": {},
   "outputs": [],
   "source": [
    "class Fish:\n",
    "    mover=SwinMover\n",
    "    def __init__(self,name):\n",
    "        self.name=name\n"
   ]
  },
  {
   "cell_type": "code",
   "execution_count": 7,
   "id": "ceramic-compiler",
   "metadata": {},
   "outputs": [],
   "source": [
    "class VoiseMxin:\n",
    "    text = ''\n",
    "    def voise(self,N=1):\n",
    "        print('voice' +self.text*N)"
   ]
  },
  {
   "cell_type": "code",
   "execution_count": 29,
   "id": "acting-european",
   "metadata": {},
   "outputs": [],
   "source": [
    "class Dolphin(VoiseMxin,Fish):\n",
    "    mover=SwimMover()\n",
    "    speed='200'\n",
    "    text =\"tttt \""
   ]
  },
  {
   "cell_type": "code",
   "execution_count": 19,
   "id": "natural-router",
   "metadata": {},
   "outputs": [],
   "source": [
    "class RunMxin:\n",
    "    speed = ''\n",
    "    def run(self,N=1):\n",
    "        print(self.name +\"is run,\"+self.speed)"
   ]
  },
  {
   "cell_type": "code",
   "execution_count": 23,
   "id": "sorted-print",
   "metadata": {},
   "outputs": [],
   "source": [
    "class Dog(VoiseMxin,RunMxin,Animals):\n",
    "    speed='200'\n",
    "    text =\"wof \"\n",
    "    \n",
    "class Cat(VoiseMxin,Animals):\n",
    "    text =\"may \""
   ]
  },
  {
   "cell_type": "code",
   "execution_count": null,
   "id": "divided-sharp",
   "metadata": {},
   "outputs": [],
   "source": []
  },
  {
   "cell_type": "code",
   "execution_count": 24,
   "id": "precious-teddy",
   "metadata": {},
   "outputs": [],
   "source": [
    "d = Dog('harik')\n",
    "c = Cat('murka')"
   ]
  },
  {
   "cell_type": "code",
   "execution_count": 25,
   "id": "thirty-malpractice",
   "metadata": {},
   "outputs": [
    {
     "name": "stdout",
     "output_type": "stream",
     "text": [
      "harikis run,200\n"
     ]
    }
   ],
   "source": [
    "d.run()"
   ]
  },
  {
   "cell_type": "code",
   "execution_count": 17,
   "id": "absent-whole",
   "metadata": {},
   "outputs": [
    {
     "name": "stdout",
     "output_type": "stream",
     "text": [
      "voicewof wof wof wof wof wof wof wof wof wof \n",
      "voicemay may may may may may may may may may \n"
     ]
    }
   ],
   "source": [
    "ls = [d,c]\n",
    "for animal in ls:\n",
    "    animal.voise(10)\n",
    "    # animal.run()\n",
    "    "
   ]
  },
  {
   "cell_type": "code",
   "execution_count": 18,
   "id": "attached-choice",
   "metadata": {},
   "outputs": [
    {
     "ename": "AttributeError",
     "evalue": "'Dog' object has no attribute 'run'",
     "output_type": "error",
     "traceback": [
      "\u001b[0;31m---------------------------------------------------------------------------\u001b[0m",
      "\u001b[0;31mAttributeError\u001b[0m                            Traceback (most recent call last)",
      "\u001b[0;32m<ipython-input-18-f59267b689fd>\u001b[0m in \u001b[0;36m<module>\u001b[0;34m\u001b[0m\n\u001b[0;32m----> 1\u001b[0;31m \u001b[0md\u001b[0m\u001b[0;34m.\u001b[0m\u001b[0mrun\u001b[0m\u001b[0;34m(\u001b[0m\u001b[0;34m)\u001b[0m\u001b[0;34m\u001b[0m\u001b[0;34m\u001b[0m\u001b[0m\n\u001b[0m",
      "\u001b[0;31mAttributeError\u001b[0m: 'Dog' object has no attribute 'run'"
     ]
    }
   ],
   "source": [
    "d.run()"
   ]
  },
  {
   "cell_type": "code",
   "execution_count": 59,
   "id": "clean-plain",
   "metadata": {},
   "outputs": [
    {
     "name": "stdout",
     "output_type": "stream",
     "text": [
      "wof wof\n"
     ]
    }
   ],
   "source": [
    "d.voise()"
   ]
  },
  {
   "cell_type": "code",
   "execution_count": 32,
   "id": "virgin-evidence",
   "metadata": {},
   "outputs": [],
   "source": [
    "class GasolineEngin:\n",
    "    def move():\n",
    "        print(\"car in move\")    \n",
    "class DiselEngin:\n",
    "    def move():\n",
    "        print(\"car in move\")   \n",
    "class ElectroEngin:\n",
    "    def move():\n",
    "        print(\"car in move\")   \n",
    "        \n",
    "class Car:\n",
    "    enigne = GasolineEngin()\n",
    "class Car2:\n",
    "    enigne = DiselEngin()\n",
    "class Car3:\n",
    "    enigne = ElectroEngin()\n",
    "\n"
   ]
  },
  {
   "cell_type": "code",
   "execution_count": 37,
   "id": "impressive-alfred",
   "metadata": {},
   "outputs": [
    {
     "data": {
      "text/plain": [
       "False"
      ]
     },
     "execution_count": 37,
     "metadata": {},
     "output_type": "execute_result"
    }
   ],
   "source": [
    "1.0/3 ==0.333333333333333"
   ]
  },
  {
   "cell_type": "code",
   "execution_count": 39,
   "id": "conservative-variable",
   "metadata": {},
   "outputs": [],
   "source": [
    "from decimal import Decimal"
   ]
  },
  {
   "cell_type": "code",
   "execution_count": 40,
   "id": "proud-property",
   "metadata": {},
   "outputs": [
    {
     "data": {
      "text/plain": [
       "Decimal('1.0020000000000000017763568394002504646778106689453125')"
      ]
     },
     "execution_count": 40,
     "metadata": {},
     "output_type": "execute_result"
    }
   ],
   "source": [
    "Decimal(1.002)"
   ]
  },
  {
   "cell_type": "code",
   "execution_count": null,
   "id": "infrared-document",
   "metadata": {},
   "outputs": [],
   "source": []
  }
 ],
 "metadata": {
  "kernelspec": {
   "display_name": "Python 3",
   "language": "python",
   "name": "python3"
  },
  "language_info": {
   "codemirror_mode": {
    "name": "ipython",
    "version": 3
   },
   "file_extension": ".py",
   "mimetype": "text/x-python",
   "name": "python",
   "nbconvert_exporter": "python",
   "pygments_lexer": "ipython3",
   "version": "3.9.2"
  }
 },
 "nbformat": 4,
 "nbformat_minor": 5
}
